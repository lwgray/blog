{
 "cells": [
  {
   "cell_type": "markdown",
   "metadata": {},
   "source": [
    "As a way to keep my skills fresh, I look for small jobs on [Upwork](https://www.upwork.com) that require python.  Here is one of the job request I came across yesterday.  \n",
    "\n",
    "A tech company, Company X, with servers all over the world wanted to determine which two servers within a regional zone are closest to their web application users.  Company X wants us to report back the name of cities that the servers are in and their IP addresses.  Company X provided a dictionary object (see partial dict below, the full dict is provided at [places.py](https://github.com/lwgray/blog/blob/master/content/articles/places.py)) with pertinent information. The dictionary contains the city, ip address, coordinates, and zone for each server..\n",
    "\n",
    "I challenge you to answer this question in your own way.  Or, just follow along with how I approached it.  More details about this exercise will be discussed below.  "
   ]
  },
  {
   "cell_type": "code",
   "execution_count": 1,
   "metadata": {},
   "outputs": [],
   "source": [
    "# Partial view of dictionary with client server information\n",
    "PLACES = {\n",
    "      \"Amsterdam\": {\n",
    "        \"IP\": '208.65.255.10',\n",
    "        \"latitude\": 52.370216,\n",
    "        \"longitude\": 4.895168,\n",
    "        \"zone\": ['1','2']\n",
    "      },\n",
    "      \"Brussels\": {\n",
    "        \"IP\": '208.65.255.10',\n",
    "        \"latitude\": 50.850346,\n",
    "        \"longitude\": 4.351721,\n",
    "        \"zone\": ['1','2','3']\n",
    "      }}\n"
   ]
  },
  {
   "cell_type": "markdown",
   "metadata": {},
   "source": [
    "Let's begin by pretending that I am a client of Company X.  I live in Baltimore, MD and I spend all day on their new web app.  I currently can not use the app because Company X is having technical issues.  To fix this problem they have decided to route all web traffic to servers in Zone 1.  \n",
    "\n",
    "Company X wants its users to still have the fastest speed while connecting to the app thus they want to send each user's data to the closest city in Zone 1.  Additionally, Company X requires redundacy, so they want us to report back the two closests cities. \n",
    "\n",
    "Your company,PyTechGroup, was hired by Company X to fix this problem. How could we determine which cities I am closest to in Zone 1.  My coordinates are (39.290385, -76.612189).\n",
    "\n",
    "To solve this problem, Let's follow the steps below.  Let's start with prerequisites, packages and imports."
   ]
  },
  {
   "cell_type": "markdown",
   "metadata": {},
   "source": [
    "### Prequistes/packages\n",
    "\n",
    "1. I will be using python2.7\n",
    "2. We need to install [geopy](https://github.com/geopy/geopy) package.  It will allow us to measure  distance(miles) between cities.\n",
    "3. Import Statements\n",
    "\n",
    "```bash\n",
    "python --version\n",
    "Python 2.7.13 :: Continuum Analytics, Inc\n",
    "```\n",
    "\n",
    "```bash    \n",
    "$ pip install geopy\n",
    "```\n",
    "\n",
    "```python\n",
    "from places import places\n",
    "from geopy.distance import vincenty\n",
    "from operator import itemgetter\n",
    "```"
   ]
  },
  {
   "cell_type": "markdown",
   "metadata": {},
   "source": [
    "### A. Which cities are in Zone 1?\n",
    "In this function(cities_in_zone) we are simply iterating through Company X's dictionary, pulling out the name of the cities in Zone 1, and appending the names to a list.\n",
    "\n",
    "As a side note, some of the zones are overlapping, ie a city can exist in more than one zone."
   ]
  },
  {
   "cell_type": "code",
   "execution_count": 3,
   "metadata": {},
   "outputs": [],
   "source": [
    "def cities_in_zone(zone):\n",
    "    ''' select cities by provided zone number\n",
    "    zone: str; the zone which a city is designated to\n",
    "    return: list\n",
    "    '''\n",
    "    cities = []\n",
    "    for city, value in places.iteritems():\n",
    "        if str(zone) in value['zone']:\n",
    "            cities.append(city)\n",
    "    return cities"
   ]
  },
  {
   "cell_type": "markdown",
   "metadata": {},
   "source": [
    "### B. What is the distance between each Zone 1 city and me?\n",
    "\n",
    "The next step is for us to determine the distance between me and each city in Zone 1.  In the 'closest_cities'function, we input my location and the city coordinates into geopy's vincenty function to derive the distance in miles.  Next, we append the city's name and distance to a list. \n",
    "\n",
    "STOP: USELESS INFO: [Vincenty](https://en.wikipedia.org/wiki/Vincenty%27s_formulae) is a highly accurate method for measuring distances, unlike other methods, its accuracy doesn't depend on your location.  "
   ]
  },
  {
   "cell_type": "code",
   "execution_count": 4,
   "metadata": {},
   "outputs": [],
   "source": [
    "def closest_cities(lat, lgt, zone, num=2):\n",
    "    ''' Find cities closest to designated location within a zone\n",
    "    lat: float; latitude\n",
    "    lgt: float; longitude\n",
    "    zone: str; the zone which a city is designated to\n",
    "    num: int, the number of cities that should be designated as closest\n",
    "    '''\n",
    "    dist = []\n",
    "    start = (lat,lgt)\n",
    "    cities = cities_in_zone(zone)\n",
    "    for city in cities:\n",
    "        distance = vincenty(start, (places[city]['latitude'], places[city]['longitude']))\n",
    "        dist.append((city, distance.miles))\n",
    "    final = find_min_distances(dist, num)\n",
    "    return final"
   ]
  },
  {
   "cell_type": "markdown",
   "metadata": {},
   "source": [
    "### C. Which two cities in Zone 1 are closest to me?\n",
    "\n",
    "In the previous function \"find_min_distances\" was called to find the smallest distance between a city and me. \"find_min_distances\" takes two arguments.  Firstly, a list of lists containing the city names and their distances from me.  Secondly, an integer that specifies how many cities to return to Company X.  \n",
    "\n",
    "The output from \"find_min_distances\" is a dict with the city name as the key and its IP address as a value.  It is returned as a dict simply because Company X wanted the answer as a dict object. "
   ]
  },
  {
   "cell_type": "code",
   "execution_count": 5,
   "metadata": {},
   "outputs": [],
   "source": [
    "def find_min_distances(distances, numbers):\n",
    "    ''' From the calculated geo distances find the smallest\n",
    "    distances: list; list containing city name and distance value in miles\n",
    "    numbers: int; the number of cities to return\n",
    "    return: dict\n",
    "    '''\n",
    "    final = {}\n",
    "    if numbers > len(distances):\n",
    "        numbers = len(distances)\n",
    "    for num in range(numbers):\n",
    "        b = min([x[1] for x in enumerate(distances)], key=itemgetter(1))\n",
    "        final[b[0]] = {'IP':places[b[0]]['IP']}\n",
    "        distances.remove(b)\n",
    "    return final"
   ]
  },
  {
   "cell_type": "markdown",
   "metadata": {},
   "source": [
    "### Finally, which cities are closest to Baltimore?"
   ]
  },
  {
   "cell_type": "code",
   "execution_count": 6,
   "metadata": {},
   "outputs": [
    {
     "data": {
      "text/plain": [
       "{'London': {'IP': '208.65.255.10'}, 'Madrid': {'IP': '208.65.255.10'}}"
      ]
     },
     "execution_count": 6,
     "metadata": {},
     "output_type": "execute_result"
    }
   ],
   "source": [
    "closest_cities(39.285879, -76.550419, 2)"
   ]
  },
  {
   "cell_type": "markdown",
   "metadata": {},
   "source": [
    "Now it is your turn!  Can you figure out a better or faster way to answer this question?"
   ]
  }
 ],
 "metadata": {
  "kernelspec": {
   "display_name": "Python 3",
   "language": "python",
   "name": "python3"
  },
  "language_info": {
   "codemirror_mode": {
    "name": "ipython",
    "version": 3
   },
   "file_extension": ".py",
   "mimetype": "text/x-python",
   "name": "python",
   "nbconvert_exporter": "python",
   "pygments_lexer": "ipython3",
   "version": "3.6.2"
  }
 },
 "nbformat": 4,
 "nbformat_minor": 2
}
