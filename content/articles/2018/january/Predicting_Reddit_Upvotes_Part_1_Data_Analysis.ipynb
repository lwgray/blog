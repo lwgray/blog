{
 "cells": [
  {
   "cell_type": "markdown",
   "metadata": {},
   "source": [
    "We are stepping through the building of a machine learning app that predicts the number of upvotes a post receives on Reddit based solely the the title of the post.  You can look here for the first article where we go through data collection"
   ]
  },
  {
   "cell_type": "markdown",
   "metadata": {},
   "source": [
    "### Part 2: Data Analysis"
   ]
  },
  {
   "cell_type": "markdown",
   "metadata": {},
   "source": [
    "We need to clean up the data a bit by removing duplicate entries.  Let's explore the data.  We see the  max length of the titles, avg length of the titles, max words in title, and average words in the title.  More interesting is the distribution of the Upvotes.  There is a large variance and the data appears to be skewed (see histogram below).  To address this, we log transformed the number of upvotes and as a result the distributed looks more normal (see histogram below).  In the future, I would suggest that we perform outlier detection and remove those data points."
   ]
  },
  {
   "cell_type": "code",
   "execution_count": null,
   "metadata": {},
   "outputs": [],
   "source": [
    "df[~df.title.duplicated()]\n",
    "df.to_csv('data_blog.csv', index=False)"
   ]
  }
 ],
 "metadata": {
  "kernelspec": {
   "display_name": "Python 2",
   "language": "python",
   "name": "python2"
  },
  "language_info": {
   "codemirror_mode": {
    "name": "ipython",
    "version": 2
   },
   "file_extension": ".py",
   "mimetype": "text/x-python",
   "name": "python",
   "nbconvert_exporter": "python",
   "pygments_lexer": "ipython2",
   "version": "2.7.13"
  }
 },
 "nbformat": 4,
 "nbformat_minor": 2
}
