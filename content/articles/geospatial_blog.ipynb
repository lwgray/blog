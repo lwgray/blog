{
 "cells": [
  {
   "cell_type": "code",
   "execution_count": 1,
   "metadata": {
    "collapsed": true
   },
   "outputs": [],
   "source": [
    "from places import places\n",
    "from geopy.distance import vincenty\n",
    "from operator import itemgetter"
   ]
  },
  {
   "cell_type": "markdown",
   "metadata": {},
   "source": [
    "A. Determine which server nodes are in Zone 1"
   ]
  },
  {
   "cell_type": "code",
   "execution_count": 2,
   "metadata": {
    "collapsed": true
   },
   "outputs": [],
   "source": [
    "def cities_in_zone(zone):\n",
    "    ''' select cities by provided zone number\n",
    "    zone: str; the zone which a city is designated to\n",
    "    return: list\n",
    "    '''\n",
    "    cities = []\n",
    "    for city, value in places.iteritems():\n",
    "        if str(zone) in value['zone']:\n",
    "            cities.append(city)\n",
    "    return cities"
   ]
  },
  {
   "cell_type": "markdown",
   "metadata": {},
   "source": [
    "B. Figure out the distance between each Zone 1 server and me."
   ]
  },
  {
   "cell_type": "code",
   "execution_count": 3,
   "metadata": {
    "collapsed": true
   },
   "outputs": [],
   "source": [
    "def closest_cities(lat, lgt, zone, num=2):\n",
    "    ''' Find cities closest to designated location within a zone\n",
    "    lat: float; latitude\n",
    "    lgt: float; longitude\n",
    "    zone: str; the zone which a city is designated to\n",
    "    num: int, the number of cities that should be designated as closest\n",
    "    '''\n",
    "    dist = []\n",
    "    start = (lat,lgt)\n",
    "    cities = cities_in_zone(zone)\n",
    "    for city in cities:\n",
    "        distance = vincenty(start, (places[city]['latitude'], places[city]['longitude']))\n",
    "        dist.append((city, distance.miles))\n",
    "    # commented code below Can be use to Eliminate original lat/lgt as a returned value \n",
    "    # dist = [x for x in dist if x[1] > 0]\n",
    "    final = find_min_distances(dist, num)\n",
    "    return final"
   ]
  },
  {
   "cell_type": "markdown",
   "metadata": {},
   "source": [
    "C. Decide which two servers in Zone 1 are closest to me"
   ]
  },
  {
   "cell_type": "code",
   "execution_count": 4,
   "metadata": {
    "collapsed": true
   },
   "outputs": [],
   "source": [
    "def find_min_distances(distances, numbers):\n",
    "    ''' From the calculated geo distances find the smallest\n",
    "    distances: list; list containing city name and distance value in miles\n",
    "    numbers: int; the number of cities to return\n",
    "    return: dict\n",
    "    '''\n",
    "    final = {}\n",
    "    if numbers > len(distances):\n",
    "        numbers = len(distances)\n",
    "    for num in range(numbers):\n",
    "        b = min([x[1] for x in enumerate(distances)], key=itemgetter(1))\n",
    "        final[b[0]] = {'IP':places[b[0]]['IP']}\n",
    "        distances.remove(b)\n",
    "    return final"
   ]
  },
  {
   "cell_type": "markdown",
   "metadata": {},
   "source": [
    "Which server is closest to Baltimore?"
   ]
  },
  {
   "cell_type": "code",
   "execution_count": 5,
   "metadata": {},
   "outputs": [
    {
     "data": {
      "text/plain": [
       "{'London': {'IP': '208.65.255.10'}, 'Madrid': {'IP': '208.65.255.10'}}"
      ]
     },
     "execution_count": 5,
     "metadata": {},
     "output_type": "execute_result"
    }
   ],
   "source": [
    "closest_cities(39.285879, -76.550419, 2)"
   ]
  }
 ],
 "metadata": {
  "kernelspec": {
   "display_name": "Python 2",
   "language": "python",
   "name": "python2"
  },
  "language_info": {
   "codemirror_mode": {
    "name": "ipython",
    "version": 2
   },
   "file_extension": ".py",
   "mimetype": "text/x-python",
   "name": "python",
   "nbconvert_exporter": "python",
   "pygments_lexer": "ipython2",
   "version": "2.7.13"
  }
 },
 "nbformat": 4,
 "nbformat_minor": 2
}
